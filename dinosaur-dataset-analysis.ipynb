{
 "cells": [
  {
   "cell_type": "code",
   "execution_count": 1,
   "id": "79942ede",
   "metadata": {
    "_cell_guid": "b1076dfc-b9ad-4769-8c92-a6c4dae69d19",
    "_uuid": "8f2839f25d086af736a60e9eeb907d3b93b6e0e5",
    "execution": {
     "iopub.execute_input": "2024-02-12T18:24:37.154847Z",
     "iopub.status.busy": "2024-02-12T18:24:37.154154Z",
     "iopub.status.idle": "2024-02-12T18:24:38.230246Z",
     "shell.execute_reply": "2024-02-12T18:24:38.228421Z"
    },
    "papermill": {
     "duration": 1.083769,
     "end_time": "2024-02-12T18:24:38.232829",
     "exception": false,
     "start_time": "2024-02-12T18:24:37.149060",
     "status": "completed"
    },
    "tags": []
   },
   "outputs": [
    {
     "data": {
      "text/html": [
       "<div>\n",
       "<style scoped>\n",
       "    .dataframe tbody tr th:only-of-type {\n",
       "        vertical-align: middle;\n",
       "    }\n",
       "\n",
       "    .dataframe tbody tr th {\n",
       "        vertical-align: top;\n",
       "    }\n",
       "\n",
       "    .dataframe thead th {\n",
       "        text-align: right;\n",
       "    }\n",
       "</style>\n",
       "<table border=\"1\" class=\"dataframe\">\n",
       "  <thead>\n",
       "    <tr style=\"text-align: right;\">\n",
       "      <th></th>\n",
       "      <th>name</th>\n",
       "      <th>diet</th>\n",
       "      <th>period</th>\n",
       "      <th>lived_in</th>\n",
       "      <th>type</th>\n",
       "      <th>length</th>\n",
       "      <th>taxonomy</th>\n",
       "      <th>named_by</th>\n",
       "      <th>species</th>\n",
       "      <th>link</th>\n",
       "    </tr>\n",
       "  </thead>\n",
       "  <tbody>\n",
       "    <tr>\n",
       "      <th>0</th>\n",
       "      <td>aardonyx</td>\n",
       "      <td>herbivorous</td>\n",
       "      <td>Early Jurassic 199-189 million years ago</td>\n",
       "      <td>South Africa</td>\n",
       "      <td>sauropod</td>\n",
       "      <td>8.0m</td>\n",
       "      <td>Dinosauria Saurischia Sauropodomorpha Prosauro...</td>\n",
       "      <td>Yates Bonnan Neveling Chinsamy and Blackbeard ...</td>\n",
       "      <td>celestae</td>\n",
       "      <td>https://www.nhm.ac.uk/discover/dino-directory/...</td>\n",
       "    </tr>\n",
       "    <tr>\n",
       "      <th>1</th>\n",
       "      <td>abelisaurus</td>\n",
       "      <td>carnivorous</td>\n",
       "      <td>Late Cretaceous 74-70 million years ago</td>\n",
       "      <td>Argentina</td>\n",
       "      <td>large theropod</td>\n",
       "      <td>9.0m</td>\n",
       "      <td>Dinosauria Saurischia Theropoda Neotheropoda C...</td>\n",
       "      <td>Bonaparte and Novas (1985)</td>\n",
       "      <td>comahuensis</td>\n",
       "      <td>https://www.nhm.ac.uk/discover/dino-directory/...</td>\n",
       "    </tr>\n",
       "    <tr>\n",
       "      <th>2</th>\n",
       "      <td>achelousaurus</td>\n",
       "      <td>herbivorous</td>\n",
       "      <td>Late Cretaceous 83-70 million years ago</td>\n",
       "      <td>USA</td>\n",
       "      <td>ceratopsian</td>\n",
       "      <td>6.0m</td>\n",
       "      <td>Dinosauria Ornithischia Genasauria Cerapoda Ma...</td>\n",
       "      <td>Sampson  (1995)</td>\n",
       "      <td>horneri</td>\n",
       "      <td>https://www.nhm.ac.uk/discover/dino-directory/...</td>\n",
       "    </tr>\n",
       "    <tr>\n",
       "      <th>3</th>\n",
       "      <td>achillobator</td>\n",
       "      <td>carnivorous</td>\n",
       "      <td>Late Cretaceous 99-84 million years ago</td>\n",
       "      <td>Mongolia</td>\n",
       "      <td>large theropod</td>\n",
       "      <td>5.0m</td>\n",
       "      <td>Dinosauria Saurischia Theropoda Neotheropoda T...</td>\n",
       "      <td>Perle Norell and Clark (1999)</td>\n",
       "      <td>giganteus</td>\n",
       "      <td>https://www.nhm.ac.uk/discover/dino-directory/...</td>\n",
       "    </tr>\n",
       "    <tr>\n",
       "      <th>4</th>\n",
       "      <td>acrocanthosaurus</td>\n",
       "      <td>carnivorous</td>\n",
       "      <td>Early Cretaceous 115-105 million years ago</td>\n",
       "      <td>USA</td>\n",
       "      <td>large theropod</td>\n",
       "      <td>12.0m</td>\n",
       "      <td>Dinosauria Saurischia Theropoda Neotheropoda T...</td>\n",
       "      <td>Stovall and Langston (1950)</td>\n",
       "      <td>atokensis</td>\n",
       "      <td>https://www.nhm.ac.uk/discover/dino-directory/...</td>\n",
       "    </tr>\n",
       "    <tr>\n",
       "      <th>...</th>\n",
       "      <td>...</td>\n",
       "      <td>...</td>\n",
       "      <td>...</td>\n",
       "      <td>...</td>\n",
       "      <td>...</td>\n",
       "      <td>...</td>\n",
       "      <td>...</td>\n",
       "      <td>...</td>\n",
       "      <td>...</td>\n",
       "      <td>...</td>\n",
       "    </tr>\n",
       "    <tr>\n",
       "      <th>304</th>\n",
       "      <td>yuanmousaurus</td>\n",
       "      <td>herbivorous</td>\n",
       "      <td>Mid Jurassic 180-159 million years ago</td>\n",
       "      <td>China</td>\n",
       "      <td>sauropod</td>\n",
       "      <td>17.0m</td>\n",
       "      <td>Dinosauria Saurischia Sauropodomorpha Sauropod...</td>\n",
       "      <td>Lü Li Ji Wang Zhang and Dong (2006)</td>\n",
       "      <td>jiangyiensis</td>\n",
       "      <td>https://www.nhm.ac.uk/discover/dino-directory/...</td>\n",
       "    </tr>\n",
       "    <tr>\n",
       "      <th>305</th>\n",
       "      <td>yunnanosaurus</td>\n",
       "      <td>omnivorous</td>\n",
       "      <td>Early Jurassic 205-190 million years ago</td>\n",
       "      <td>China</td>\n",
       "      <td>sauropod</td>\n",
       "      <td>7.0m</td>\n",
       "      <td>Dinosauria Saurischia Sauropodomorpha Prosauro...</td>\n",
       "      <td>Young (1942)</td>\n",
       "      <td>huangi</td>\n",
       "      <td>https://www.nhm.ac.uk/discover/dino-directory/...</td>\n",
       "    </tr>\n",
       "    <tr>\n",
       "      <th>306</th>\n",
       "      <td>zalmoxes</td>\n",
       "      <td>herbivorous</td>\n",
       "      <td>Late Cretaceous 69 million years ago</td>\n",
       "      <td>Romania</td>\n",
       "      <td>euornithopod</td>\n",
       "      <td>3.0m</td>\n",
       "      <td>Dinosauria Ornithischia Genasauria Cerapoda Or...</td>\n",
       "      <td>Nopcsa (1902)</td>\n",
       "      <td>robustus</td>\n",
       "      <td>https://www.nhm.ac.uk/discover/dino-directory/...</td>\n",
       "    </tr>\n",
       "    <tr>\n",
       "      <th>307</th>\n",
       "      <td>zephyrosaurus</td>\n",
       "      <td>herbivorous</td>\n",
       "      <td>Early Cretaceous 120-110 million years ago</td>\n",
       "      <td>USA</td>\n",
       "      <td>euornithopod</td>\n",
       "      <td>1.8m</td>\n",
       "      <td>Dinosauria Ornithischia Genasauria Cerapoda Or...</td>\n",
       "      <td>Sues (1980)</td>\n",
       "      <td>schaffi</td>\n",
       "      <td>https://www.nhm.ac.uk/discover/dino-directory/...</td>\n",
       "    </tr>\n",
       "    <tr>\n",
       "      <th>308</th>\n",
       "      <td>zuniceratops</td>\n",
       "      <td>herbivorous</td>\n",
       "      <td>Late Cretaceous 94-89 million years ago</td>\n",
       "      <td>USA</td>\n",
       "      <td>ceratopsian</td>\n",
       "      <td>NaN</td>\n",
       "      <td>Dinosauria Ornithischia Genasauria Cerapoda Ma...</td>\n",
       "      <td>Wolfe and Kirkland (1998)</td>\n",
       "      <td>christopheri</td>\n",
       "      <td>https://www.nhm.ac.uk/discover/dino-directory/...</td>\n",
       "    </tr>\n",
       "  </tbody>\n",
       "</table>\n",
       "<p>309 rows × 10 columns</p>\n",
       "</div>"
      ],
      "text/plain": [
       "                 name         diet  \\\n",
       "0            aardonyx  herbivorous   \n",
       "1         abelisaurus  carnivorous   \n",
       "2       achelousaurus  herbivorous   \n",
       "3        achillobator  carnivorous   \n",
       "4    acrocanthosaurus  carnivorous   \n",
       "..                ...          ...   \n",
       "304     yuanmousaurus  herbivorous   \n",
       "305     yunnanosaurus   omnivorous   \n",
       "306          zalmoxes  herbivorous   \n",
       "307     zephyrosaurus  herbivorous   \n",
       "308      zuniceratops  herbivorous   \n",
       "\n",
       "                                         period      lived_in            type  \\\n",
       "0      Early Jurassic 199-189 million years ago  South Africa        sauropod   \n",
       "1       Late Cretaceous 74-70 million years ago     Argentina  large theropod   \n",
       "2       Late Cretaceous 83-70 million years ago           USA     ceratopsian   \n",
       "3       Late Cretaceous 99-84 million years ago      Mongolia  large theropod   \n",
       "4    Early Cretaceous 115-105 million years ago           USA  large theropod   \n",
       "..                                          ...           ...             ...   \n",
       "304      Mid Jurassic 180-159 million years ago         China        sauropod   \n",
       "305    Early Jurassic 205-190 million years ago         China        sauropod   \n",
       "306        Late Cretaceous 69 million years ago       Romania    euornithopod   \n",
       "307  Early Cretaceous 120-110 million years ago           USA    euornithopod   \n",
       "308     Late Cretaceous 94-89 million years ago           USA     ceratopsian   \n",
       "\n",
       "    length                                           taxonomy  \\\n",
       "0     8.0m  Dinosauria Saurischia Sauropodomorpha Prosauro...   \n",
       "1     9.0m  Dinosauria Saurischia Theropoda Neotheropoda C...   \n",
       "2     6.0m  Dinosauria Ornithischia Genasauria Cerapoda Ma...   \n",
       "3     5.0m  Dinosauria Saurischia Theropoda Neotheropoda T...   \n",
       "4    12.0m  Dinosauria Saurischia Theropoda Neotheropoda T...   \n",
       "..     ...                                                ...   \n",
       "304  17.0m  Dinosauria Saurischia Sauropodomorpha Sauropod...   \n",
       "305   7.0m  Dinosauria Saurischia Sauropodomorpha Prosauro...   \n",
       "306   3.0m  Dinosauria Ornithischia Genasauria Cerapoda Or...   \n",
       "307   1.8m  Dinosauria Ornithischia Genasauria Cerapoda Or...   \n",
       "308    NaN  Dinosauria Ornithischia Genasauria Cerapoda Ma...   \n",
       "\n",
       "                                              named_by       species  \\\n",
       "0    Yates Bonnan Neveling Chinsamy and Blackbeard ...      celestae   \n",
       "1                           Bonaparte and Novas (1985)   comahuensis   \n",
       "2                                      Sampson  (1995)       horneri   \n",
       "3                        Perle Norell and Clark (1999)     giganteus   \n",
       "4                          Stovall and Langston (1950)     atokensis   \n",
       "..                                                 ...           ...   \n",
       "304                Lü Li Ji Wang Zhang and Dong (2006)  jiangyiensis   \n",
       "305                                       Young (1942)        huangi   \n",
       "306                                      Nopcsa (1902)      robustus   \n",
       "307                                        Sues (1980)       schaffi   \n",
       "308                          Wolfe and Kirkland (1998)  christopheri   \n",
       "\n",
       "                                                  link  \n",
       "0    https://www.nhm.ac.uk/discover/dino-directory/...  \n",
       "1    https://www.nhm.ac.uk/discover/dino-directory/...  \n",
       "2    https://www.nhm.ac.uk/discover/dino-directory/...  \n",
       "3    https://www.nhm.ac.uk/discover/dino-directory/...  \n",
       "4    https://www.nhm.ac.uk/discover/dino-directory/...  \n",
       "..                                                 ...  \n",
       "304  https://www.nhm.ac.uk/discover/dino-directory/...  \n",
       "305  https://www.nhm.ac.uk/discover/dino-directory/...  \n",
       "306  https://www.nhm.ac.uk/discover/dino-directory/...  \n",
       "307  https://www.nhm.ac.uk/discover/dino-directory/...  \n",
       "308  https://www.nhm.ac.uk/discover/dino-directory/...  \n",
       "\n",
       "[309 rows x 10 columns]"
      ]
     },
     "execution_count": 1,
     "metadata": {},
     "output_type": "execute_result"
    }
   ],
   "source": [
    "import numpy as np # linear algebra\n",
    "import pandas as pd # data processing, CSV file I/O (e.g. pd.read_csv)\n",
    "\n",
    "import os\n",
    "for dirname, _, filenames in os.walk('/kaggle/input'):\n",
    "    for filename in filenames:\n",
    "        data = pd.read_csv(os.path.join(dirname, filename))\n",
    "\n",
    "data"
   ]
  },
  {
   "cell_type": "code",
   "execution_count": 2,
   "id": "f5a4588f",
   "metadata": {
    "execution": {
     "iopub.execute_input": "2024-02-12T18:24:38.242541Z",
     "iopub.status.busy": "2024-02-12T18:24:38.241785Z",
     "iopub.status.idle": "2024-02-12T18:24:38.258197Z",
     "shell.execute_reply": "2024-02-12T18:24:38.257264Z"
    },
    "papermill": {
     "duration": 0.0238,
     "end_time": "2024-02-12T18:24:38.260473",
     "exception": false,
     "start_time": "2024-02-12T18:24:38.236673",
     "status": "completed"
    },
    "tags": []
   },
   "outputs": [
    {
     "data": {
      "text/plain": [
       "length\n",
       "6.0m     21\n",
       "2.0m     19\n",
       "5.0m     19\n",
       "9.0m     19\n",
       "3.0m     16\n",
       "         ..\n",
       "22.0m     1\n",
       "8.2m      1\n",
       "5.7m      1\n",
       "6.4m      1\n",
       "17.0m     1\n",
       "Name: count, Length: 73, dtype: int64"
      ]
     },
     "execution_count": 2,
     "metadata": {},
     "output_type": "execute_result"
    }
   ],
   "source": [
    "data['length'].value_counts()"
   ]
  },
  {
   "cell_type": "code",
   "execution_count": 3,
   "id": "ba7ff084",
   "metadata": {
    "execution": {
     "iopub.execute_input": "2024-02-12T18:24:38.270355Z",
     "iopub.status.busy": "2024-02-12T18:24:38.269750Z",
     "iopub.status.idle": "2024-02-12T18:24:38.275435Z",
     "shell.execute_reply": "2024-02-12T18:24:38.274586Z"
    },
    "papermill": {
     "duration": 0.013418,
     "end_time": "2024-02-12T18:24:38.277861",
     "exception": false,
     "start_time": "2024-02-12T18:24:38.264443",
     "status": "completed"
    },
    "tags": []
   },
   "outputs": [],
   "source": [
    "data['length'] = data['length'].str.replace('m', '').astype(float)"
   ]
  },
  {
   "cell_type": "code",
   "execution_count": 4,
   "id": "95086703",
   "metadata": {
    "execution": {
     "iopub.execute_input": "2024-02-12T18:24:38.287660Z",
     "iopub.status.busy": "2024-02-12T18:24:38.286843Z",
     "iopub.status.idle": "2024-02-12T18:24:38.292462Z",
     "shell.execute_reply": "2024-02-12T18:24:38.291366Z"
    },
    "papermill": {
     "duration": 0.013361,
     "end_time": "2024-02-12T18:24:38.295019",
     "exception": false,
     "start_time": "2024-02-12T18:24:38.281658",
     "status": "completed"
    },
    "tags": []
   },
   "outputs": [],
   "source": [
    "data.rename(columns={'length':'length (meters)'}, inplace=True)"
   ]
  },
  {
   "cell_type": "code",
   "execution_count": 5,
   "id": "de053764",
   "metadata": {
    "execution": {
     "iopub.execute_input": "2024-02-12T18:24:38.304813Z",
     "iopub.status.busy": "2024-02-12T18:24:38.304067Z",
     "iopub.status.idle": "2024-02-12T18:24:40.556099Z",
     "shell.execute_reply": "2024-02-12T18:24:40.554973Z"
    },
    "papermill": {
     "duration": 2.260357,
     "end_time": "2024-02-12T18:24:40.559140",
     "exception": false,
     "start_time": "2024-02-12T18:24:38.298783",
     "status": "completed"
    },
    "tags": []
   },
   "outputs": [
    {
     "name": "stderr",
     "output_type": "stream",
     "text": [
      "/opt/conda/lib/python3.10/site-packages/seaborn/_oldcore.py:1119: FutureWarning: use_inf_as_na option is deprecated and will be removed in a future version. Convert inf values to NaN before operating instead.\n",
      "  with pd.option_context('mode.use_inf_as_na', True):\n"
     ]
    },
    {
     "data": {
      "text/plain": [
       "<Axes: xlabel='length (meters)', ylabel='Count'>"
      ]
     },
     "execution_count": 5,
     "metadata": {},
     "output_type": "execute_result"
    },
    {
     "data": {
      "image/png": "[encoded data removed]",
      "text/plain": [
       "<Figure size 640x480 with 1 Axes>"
      ]
     },
     "metadata": {},
     "output_type": "display_data"
    }
   ],
   "source": [
    "import seaborn as sns\n",
    "\n",
    "sns.set_theme()\n",
    "sns.histplot(data=data, x='length (meters)', kde=True)"
   ]
  }
 ],
 "metadata": {
  "kaggle": {
   "accelerator": "none",
   "dataSources": [
    {
     "datasetId": 1339414,
     "sourceId": 2229724,
     "sourceType": "datasetVersion"
    }
   ],
   "dockerImageVersionId": 30646,
   "isGpuEnabled": false,
   "isInternetEnabled": true,
   "language": "python",
   "sourceType": "notebook"
  },
  "kernelspec": {
   "display_name": "Python 3",
   "language": "python",
   "name": "python3"
  },
  "language_info": {
   "codemirror_mode": {
    "name": "ipython",
    "version": 3
   },
   "file_extension": ".py",
   "mimetype": "text/x-python",
   "name": "python",
   "nbconvert_exporter": "python",
   "pygments_lexer": "ipython3",
   "version": "3.10.13"
  },
  "papermill": {
   "default_parameters": {},
   "duration": 7.241475,
   "end_time": "2024-02-12T18:24:41.185943",
   "environment_variables": {},
   "exception": null,
   "input_path": "__notebook__.ipynb",
   "output_path": "__notebook__.ipynb",
   "parameters": {},
   "start_time": "2024-02-12T18:24:33.944468",
   "version": "2.5.0"
  }
 },
 "nbformat": 4,
 "nbformat_minor": 5
}
